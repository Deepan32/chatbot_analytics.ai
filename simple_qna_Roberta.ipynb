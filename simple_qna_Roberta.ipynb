{
 "cells": [
  {
   "cell_type": "markdown",
   "metadata": {},
   "source": [
    "### Lets try to do a simple Q & A here with RoBerta model"
   ]
  },
  {
   "cell_type": "code",
   "execution_count": 2,
   "metadata": {},
   "outputs": [
    {
     "name": "stderr",
     "output_type": "stream",
     "text": [
      "/Library/Frameworks/Python.framework/Versions/3.11/lib/python3.11/site-packages/tqdm/auto.py:21: TqdmWarning: IProgress not found. Please update jupyter and ipywidgets. See https://ipywidgets.readthedocs.io/en/stable/user_install.html\n",
      "  from .autonotebook import tqdm as notebook_tqdm\n"
     ]
    }
   ],
   "source": [
    "from transformers import AutoTokenizer, AutoModelForQuestionAnswering, pipeline\n",
    "import json"
   ]
  },
  {
   "cell_type": "code",
   "execution_count": 3,
   "metadata": {},
   "outputs": [],
   "source": [
    "# Load the tokenizer and model for question answering\n",
    "model_name = \"deepset/roberta-base-squad2\"  # You can use other QA models like 'bert-large-uncased-whole-word-masking-finetuned-squad'\n",
    "tokenizer = AutoTokenizer.from_pretrained(model_name)\n",
    "model = AutoModelForQuestionAnswering.from_pretrained(model_name)"
   ]
  },
  {
   "cell_type": "code",
   "execution_count": 3,
   "metadata": {},
   "outputs": [
    {
     "data": {
      "text/plain": [
       "RobertaForQuestionAnswering(\n",
       "  (roberta): RobertaModel(\n",
       "    (embeddings): RobertaEmbeddings(\n",
       "      (word_embeddings): Embedding(50265, 768, padding_idx=1)\n",
       "      (position_embeddings): Embedding(514, 768, padding_idx=1)\n",
       "      (token_type_embeddings): Embedding(1, 768)\n",
       "      (LayerNorm): LayerNorm((768,), eps=1e-05, elementwise_affine=True)\n",
       "      (dropout): Dropout(p=0.1, inplace=False)\n",
       "    )\n",
       "    (encoder): RobertaEncoder(\n",
       "      (layer): ModuleList(\n",
       "        (0-11): 12 x RobertaLayer(\n",
       "          (attention): RobertaAttention(\n",
       "            (self): RobertaSelfAttention(\n",
       "              (query): Linear(in_features=768, out_features=768, bias=True)\n",
       "              (key): Linear(in_features=768, out_features=768, bias=True)\n",
       "              (value): Linear(in_features=768, out_features=768, bias=True)\n",
       "              (dropout): Dropout(p=0.1, inplace=False)\n",
       "            )\n",
       "            (output): RobertaSelfOutput(\n",
       "              (dense): Linear(in_features=768, out_features=768, bias=True)\n",
       "              (LayerNorm): LayerNorm((768,), eps=1e-05, elementwise_affine=True)\n",
       "              (dropout): Dropout(p=0.1, inplace=False)\n",
       "            )\n",
       "          )\n",
       "          (intermediate): RobertaIntermediate(\n",
       "            (dense): Linear(in_features=768, out_features=3072, bias=True)\n",
       "            (intermediate_act_fn): GELUActivation()\n",
       "          )\n",
       "          (output): RobertaOutput(\n",
       "            (dense): Linear(in_features=3072, out_features=768, bias=True)\n",
       "            (LayerNorm): LayerNorm((768,), eps=1e-05, elementwise_affine=True)\n",
       "            (dropout): Dropout(p=0.1, inplace=False)\n",
       "          )\n",
       "        )\n",
       "      )\n",
       "    )\n",
       "  )\n",
       "  (qa_outputs): Linear(in_features=768, out_features=2, bias=True)\n",
       ")"
      ]
     },
     "execution_count": 3,
     "metadata": {},
     "output_type": "execute_result"
    }
   ],
   "source": [
    "model"
   ]
  },
  {
   "cell_type": "code",
   "execution_count": 4,
   "metadata": {},
   "outputs": [],
   "source": [
    "# Input data \n",
    "with open('./data/chat_history.json', 'r') as file:\n",
    "    chat_data = json.load(file)"
   ]
  },
  {
   "cell_type": "code",
   "execution_count": 14,
   "metadata": {},
   "outputs": [
    {
     "data": {
      "text/plain": [
       "[{'customer_id': 'C001',\n",
       "  'chat_history': [{'timestamp': '2024-07-01T10:00:00Z',\n",
       "    'message': \"Hi, I'm looking for a summer dress.\"},\n",
       "   {'timestamp': '2024-07-01T10:01:00Z',\n",
       "    'message': 'Do you have anything in yellow?'},\n",
       "   {'timestamp': '2024-07-01T10:02:00Z',\n",
       "    'agent_message': 'Hello! Yes, we have a few options. Would you like a casual or formal dress?'},\n",
       "   {'timestamp': '2024-07-01T10:03:00Z', 'message': 'A casual dress, please.'},\n",
       "   {'timestamp': '2024-07-01T10:04:00Z',\n",
       "    'agent_message': 'Great! Here are a few yellow casual dresses. [Link to products]'}]},\n",
       " {'customer_id': 'C002',\n",
       "  'chat_history': [{'timestamp': '2024-07-02T14:20:00Z',\n",
       "    'message': 'Hello, do you have size 8 in black jeans?'},\n",
       "   {'timestamp': '2024-07-02T14:21:00Z',\n",
       "    'agent_message': 'Hi! Let me check that for you.'},\n",
       "   {'timestamp': '2024-07-02T14:22:00Z',\n",
       "    'agent_message': 'Yes, we have size 8 in stock for black jeans. [Link to product]'},\n",
       "   {'timestamp': '2024-07-02T14:23:00Z',\n",
       "    'message': 'Thank you! Can I place an order here?'},\n",
       "   {'timestamp': '2024-07-02T14:24:00Z',\n",
       "    'agent_message': \"Sure! I'll assist you with placing the order.\"}]},\n",
       " {'customer_id': 'C003',\n",
       "  'chat_history': [{'timestamp': '2024-07-03T09:15:00Z',\n",
       "    'message': 'Hi, can you recommend a jacket for cold weather?'},\n",
       "   {'timestamp': '2024-07-03T09:16:00Z',\n",
       "    'agent_message': 'Hello! Of course. Do you have a preference for style or color?'},\n",
       "   {'timestamp': '2024-07-03T09:17:00Z',\n",
       "    'message': 'Something stylish and in blue, please.'},\n",
       "   {'timestamp': '2024-07-03T09:18:00Z',\n",
       "    'agent_message': 'We have several stylish blue jackets. Here are some options. [Link to products]'},\n",
       "   {'timestamp': '2024-07-03T09:19:00Z',\n",
       "    'message': 'These look great, thank you!'}]},\n",
       " {'customer_id': 'C004',\n",
       "  'chat_history': [{'timestamp': '2024-07-04T11:30:00Z',\n",
       "    'message': \"Hello, I'm looking for a gift for my wife. Any suggestions?\"},\n",
       "   {'timestamp': '2024-07-04T11:31:00Z',\n",
       "    'agent_message': 'Hi! Sure, can you tell me a bit about her style?'},\n",
       "   {'timestamp': '2024-07-04T11:32:00Z',\n",
       "    'message': 'She loves elegant dresses.'},\n",
       "   {'timestamp': '2024-07-04T11:33:00Z',\n",
       "    'agent_message': 'We have some beautiful elegant dresses that would make a perfect gift. [Link to products]'},\n",
       "   {'timestamp': '2024-07-04T11:34:00Z',\n",
       "    'message': \"Thank you, I'll check these out.\"}]},\n",
       " {'customer_id': 'C005',\n",
       "  'chat_history': [{'timestamp': '2024-07-05T16:45:00Z',\n",
       "    'message': 'Hi, do you have any promotions or discounts available?'},\n",
       "   {'timestamp': '2024-07-05T16:46:00Z',\n",
       "    'agent_message': 'Hello! Yes, we currently have a 20% discount on all summer wear.'},\n",
       "   {'timestamp': '2024-07-05T16:47:00Z',\n",
       "    'message': \"That's great! How can I apply the discount?\"},\n",
       "   {'timestamp': '2024-07-05T16:48:00Z',\n",
       "    'agent_message': 'You can use the code SUMMER20 at checkout to avail the discount.'},\n",
       "   {'timestamp': '2024-07-05T16:49:00Z', 'message': 'Thank you!'}]}]"
      ]
     },
     "metadata": {},
     "output_type": "display_data"
    }
   ],
   "source": [
    "display(chat_data)"
   ]
  },
  {
   "cell_type": "code",
   "execution_count": 6,
   "metadata": {},
   "outputs": [
    {
     "data": {
      "text/plain": [
       "'[{\\'customer_id\\': \\'C001\\', \\'chat_history\\': [{\\'timestamp\\': \\'2024-07-01T10:00:00Z\\', \\'message\\': \"Hi, I\\'m looking for a summer dress.\"}, {\\'timestamp\\': \\'2024-07-01T10:01:00Z\\', \\'message\\': \\'Do you have anything in yellow?\\'}, {\\'timestamp\\': \\'2024-07-01T10:02:00Z\\', \\'agent_message\\': \\'Hello! Yes, we have a few options. Would you like a casual or formal dress?\\'}, {\\'timestamp\\': \\'2024-07-01T10:03:00Z\\', \\'message\\': \\'A casual dress, please.\\'}, {\\'timestamp\\': \\'2024-07-01T10:04:00Z\\', \\'agent_message\\': \\'Great! Here are a few yellow casual dresses. [Link to products]\\'}]}, {\\'customer_id\\': \\'C002\\', \\'chat_history\\': [{\\'timestamp\\': \\'2024-07-02T14:20:00Z\\', \\'message\\': \\'Hello, do you have size 8 in black jeans?\\'}, {\\'timestamp\\': \\'2024-07-02T14:21:00Z\\', \\'agent_message\\': \\'Hi! Let me check that for you.\\'}, {\\'timestamp\\': \\'2024-07-02T14:22:00Z\\', \\'agent_message\\': \\'Yes, we have size 8 in stock for black jeans. [Link to product]\\'}, {\\'timestamp\\': \\'2024-07-02T14:23:00Z\\', \\'message\\': \\'Thank you! Can I place an order here?\\'}, {\\'timestamp\\': \\'2024-07-02T14:24:00Z\\', \\'agent_message\\': \"Sure! I\\'ll assist you with placing the order.\"}]}, {\\'customer_id\\': \\'C003\\', \\'chat_history\\': [{\\'timestamp\\': \\'2024-07-03T09:15:00Z\\', \\'message\\': \\'Hi, can you recommend a jacket for cold weather?\\'}, {\\'timestamp\\': \\'2024-07-03T09:16:00Z\\', \\'agent_message\\': \\'Hello! Of course. Do you have a preference for style or color?\\'}, {\\'timestamp\\': \\'2024-07-03T09:17:00Z\\', \\'message\\': \\'Something stylish and in blue, please.\\'}, {\\'timestamp\\': \\'2024-07-03T09:18:00Z\\', \\'agent_message\\': \\'We have several stylish blue jackets. Here are some options. [Link to products]\\'}, {\\'timestamp\\': \\'2024-07-03T09:19:00Z\\', \\'message\\': \\'These look great, thank you!\\'}]}, {\\'customer_id\\': \\'C004\\', \\'chat_history\\': [{\\'timestamp\\': \\'2024-07-04T11:30:00Z\\', \\'message\\': \"Hello, I\\'m looking for a gift for my wife. Any suggestions?\"}, {\\'timestamp\\': \\'2024-07-04T11:31:00Z\\', \\'agent_message\\': \\'Hi! Sure, can you tell me a bit about her style?\\'}, {\\'timestamp\\': \\'2024-07-04T11:32:00Z\\', \\'message\\': \\'She loves elegant dresses.\\'}, {\\'timestamp\\': \\'2024-07-04T11:33:00Z\\', \\'agent_message\\': \\'We have some beautiful elegant dresses that would make a perfect gift. [Link to products]\\'}, {\\'timestamp\\': \\'2024-07-04T11:34:00Z\\', \\'message\\': \"Thank you, I\\'ll check these out.\"}]}, {\\'customer_id\\': \\'C005\\', \\'chat_history\\': [{\\'timestamp\\': \\'2024-07-05T16:45:00Z\\', \\'message\\': \\'Hi, do you have any promotions or discounts available?\\'}, {\\'timestamp\\': \\'2024-07-05T16:46:00Z\\', \\'agent_message\\': \\'Hello! Yes, we currently have a 20% discount on all summer wear.\\'}, {\\'timestamp\\': \\'2024-07-05T16:47:00Z\\', \\'message\\': \"That\\'s great! How can I apply the discount?\"}, {\\'timestamp\\': \\'2024-07-05T16:48:00Z\\', \\'agent_message\\': \\'You can use the code SUMMER20 at checkout to avail the discount.\\'}, {\\'timestamp\\': \\'2024-07-05T16:49:00Z\\', \\'message\\': \\'Thank you!\\'}]}]'"
      ]
     },
     "execution_count": 6,
     "metadata": {},
     "output_type": "execute_result"
    }
   ],
   "source": [
    "str(chat_data)"
   ]
  },
  {
   "cell_type": "code",
   "execution_count": 43,
   "metadata": {},
   "outputs": [],
   "source": [
    "# Extract the context from the JSON data\n",
    "context = str(chat_data)\n",
    "\n",
    "# Define the question\n",
    "question = \"Give the list of customers that asked for discounts\""
   ]
  },
  {
   "cell_type": "code",
   "execution_count": 44,
   "metadata": {},
   "outputs": [
    {
     "name": "stderr",
     "output_type": "stream",
     "text": [
      "Hardware accelerator e.g. GPU is available in the environment, but no `device` argument is passed to the `Pipeline` object. Model will be on CPU.\n"
     ]
    }
   ],
   "source": [
    "qa_pipeline = pipeline(\"question-answering\", model=model, tokenizer=tokenizer)\n"
   ]
  },
  {
   "cell_type": "code",
   "execution_count": 45,
   "metadata": {},
   "outputs": [],
   "source": [
    "result = qa_pipeline(question=question, context=context)"
   ]
  },
  {
   "cell_type": "code",
   "execution_count": 46,
   "metadata": {},
   "outputs": [
    {
     "name": "stdout",
     "output_type": "stream",
     "text": [
      "use the code SUMMER20 at checkout\n"
     ]
    }
   ],
   "source": [
    "print(result[\"answer\"])"
   ]
  },
  {
   "cell_type": "code",
   "execution_count": null,
   "metadata": {},
   "outputs": [],
   "source": []
  }
 ],
 "metadata": {
  "kernelspec": {
   "display_name": "Python 3",
   "language": "python",
   "name": "python3"
  },
  "language_info": {
   "codemirror_mode": {
    "name": "ipython",
    "version": 3
   },
   "file_extension": ".py",
   "mimetype": "text/x-python",
   "name": "python",
   "nbconvert_exporter": "python",
   "pygments_lexer": "ipython3",
   "version": "3.11.4"
  }
 },
 "nbformat": 4,
 "nbformat_minor": 2
}
