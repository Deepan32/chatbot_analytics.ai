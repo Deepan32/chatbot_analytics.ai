{
 "cells": [
  {
   "cell_type": "markdown",
   "metadata": {},
   "source": [
    "# Topic modelling using Bertopic"
   ]
  },
  {
   "cell_type": "code",
   "execution_count": 65,
   "metadata": {},
   "outputs": [],
   "source": [
    "from bertopic import BERTopic\n",
    "import json\n",
    "import umap\n",
    "import pandas as pd\n",
    "import hdbscan"
   ]
  },
  {
   "cell_type": "code",
   "execution_count": 66,
   "metadata": {},
   "outputs": [],
   "source": [
    "def convert_to_string_iterables(docs, how=\"All\"):\n",
    "    if (how==\"All\"):    \n",
    "        messagesList = []\n",
    "        for conversation in docs:    \n",
    "            messages=\"\"\n",
    "            for chat in conversation['chat_history']:\n",
    "                if 'message' in chat:\n",
    "                    messages=messages+chat['message']\n",
    "                if 'agent_message' in chat:\n",
    "                    messages=messages+chat['agent_message']\n",
    "                    # messages.concat(chat['agent_message'])\n",
    "            messagesList.append(messages)\n",
    "        return(messagesList)\n",
    "    else:\n",
    "        return(None)\n",
    "\n",
    "\n"
   ]
  },
  {
   "cell_type": "code",
   "execution_count": 78,
   "metadata": {},
   "outputs": [],
   "source": [
    "with open(\"data/chat_history.json\",\"r\", encoding=\"utf-8\") as f:\n",
    "    docs=json.load(f)"
   ]
  },
  {
   "cell_type": "code",
   "execution_count": 79,
   "metadata": {},
   "outputs": [],
   "source": [
    "string_list=convert_to_string_iterables(docs, \"All\")"
   ]
  },
  {
   "cell_type": "code",
   "execution_count": 80,
   "metadata": {},
   "outputs": [
    {
     "data": {
      "text/plain": [
       "8"
      ]
     },
     "execution_count": 80,
     "metadata": {},
     "output_type": "execute_result"
    }
   ],
   "source": [
    "len(string_list)"
   ]
  },
  {
   "cell_type": "code",
   "execution_count": 81,
   "metadata": {},
   "outputs": [],
   "source": [
    "# Customize the UMAP model\n",
    "umap_model = umap.UMAP(n_neighbors=5, n_components=2, min_dist=0.0, metric='cosine')\n",
    "hdbscan_model = hdbscan.HDBSCAN(min_cluster_size=3, min_samples=2, metric='euclidean')\n",
    "topic_model= BERTopic(embedding_model=\"all-MiniLM-L6-v2\", umap_model=umap_model,hdbscan_model=hdbscan_model)\n",
    "\n",
    "topics, probs= topic_model.fit_transform(string_list)"
   ]
  },
  {
   "cell_type": "code",
   "execution_count": 82,
   "metadata": {},
   "outputs": [
    {
     "data": {
      "text/html": [
       "<div>\n",
       "<style scoped>\n",
       "    .dataframe tbody tr th:only-of-type {\n",
       "        vertical-align: middle;\n",
       "    }\n",
       "\n",
       "    .dataframe tbody tr th {\n",
       "        vertical-align: top;\n",
       "    }\n",
       "\n",
       "    .dataframe thead th {\n",
       "        text-align: right;\n",
       "    }\n",
       "</style>\n",
       "<table border=\"1\" class=\"dataframe\">\n",
       "  <thead>\n",
       "    <tr style=\"text-align: right;\">\n",
       "      <th></th>\n",
       "      <th>Topic</th>\n",
       "      <th>Count</th>\n",
       "      <th>Name</th>\n",
       "      <th>Representation</th>\n",
       "      <th>Representative_Docs</th>\n",
       "    </tr>\n",
       "  </thead>\n",
       "  <tbody>\n",
       "    <tr>\n",
       "      <th>0</th>\n",
       "      <td>-1</td>\n",
       "      <td>8</td>\n",
       "      <td>-1_you_have_the_discount</td>\n",
       "      <td>[you, have, the, discount, can, we, to, for, h...</td>\n",
       "      <td>[Hi, do you have stylish blue jacketsHello! Ye...</td>\n",
       "    </tr>\n",
       "  </tbody>\n",
       "</table>\n",
       "</div>"
      ],
      "text/plain": [
       "   Topic  Count                      Name  \\\n",
       "0     -1      8  -1_you_have_the_discount   \n",
       "\n",
       "                                      Representation  \\\n",
       "0  [you, have, the, discount, can, we, to, for, h...   \n",
       "\n",
       "                                 Representative_Docs  \n",
       "0  [Hi, do you have stylish blue jacketsHello! Ye...  "
      ]
     },
     "execution_count": 82,
     "metadata": {},
     "output_type": "execute_result"
    }
   ],
   "source": [
    "topic_model.get_topic_info()"
   ]
  },
  {
   "cell_type": "code",
   "execution_count": 83,
   "metadata": {},
   "outputs": [
    {
     "data": {
      "text/plain": [
       "[('you', 0.1934321572215864),\n",
       " ('have', 0.14497046875388903),\n",
       " ('the', 0.1311781219463537),\n",
       " ('discount', 0.12395904384554161),\n",
       " ('can', 0.1164991285372758),\n",
       " ('we', 0.0924136922429985),\n",
       " ('to', 0.0924136922429985),\n",
       " ('for', 0.0924136922429985),\n",
       " ('hello', 0.0836988609067404),\n",
       " ('do', 0.0836988609067404)]"
      ]
     },
     "execution_count": 83,
     "metadata": {},
     "output_type": "execute_result"
    }
   ],
   "source": [
    "topic_model.get_topic(-1)"
   ]
  },
  {
   "cell_type": "code",
   "execution_count": 84,
   "metadata": {},
   "outputs": [],
   "source": [
    "topic_model.get_representative_docs(0)"
   ]
  },
  {
   "cell_type": "code",
   "execution_count": 85,
   "metadata": {},
   "outputs": [],
   "source": [
    "df=pd.DataFrame({\"topic\":topics,\"docs\":string_list})"
   ]
  },
  {
   "cell_type": "code",
   "execution_count": 86,
   "metadata": {},
   "outputs": [
    {
     "data": {
      "text/html": [
       "<div>\n",
       "<style scoped>\n",
       "    .dataframe tbody tr th:only-of-type {\n",
       "        vertical-align: middle;\n",
       "    }\n",
       "\n",
       "    .dataframe tbody tr th {\n",
       "        vertical-align: top;\n",
       "    }\n",
       "\n",
       "    .dataframe thead th {\n",
       "        text-align: right;\n",
       "    }\n",
       "</style>\n",
       "<table border=\"1\" class=\"dataframe\">\n",
       "  <thead>\n",
       "    <tr style=\"text-align: right;\">\n",
       "      <th></th>\n",
       "      <th>topic</th>\n",
       "      <th>docs</th>\n",
       "    </tr>\n",
       "  </thead>\n",
       "  <tbody>\n",
       "    <tr>\n",
       "      <th>0</th>\n",
       "      <td>-1</td>\n",
       "      <td>Hi, I'm looking for a summer dress.Do you have...</td>\n",
       "    </tr>\n",
       "    <tr>\n",
       "      <th>1</th>\n",
       "      <td>-1</td>\n",
       "      <td>Hello, do you have size 8 in black jeans?Hi! L...</td>\n",
       "    </tr>\n",
       "    <tr>\n",
       "      <th>2</th>\n",
       "      <td>-1</td>\n",
       "      <td>Hi, can you recommend a jacket for cold weathe...</td>\n",
       "    </tr>\n",
       "    <tr>\n",
       "      <th>3</th>\n",
       "      <td>-1</td>\n",
       "      <td>Hello, I'm looking for a gift for my wife. Any...</td>\n",
       "    </tr>\n",
       "    <tr>\n",
       "      <th>4</th>\n",
       "      <td>-1</td>\n",
       "      <td>Hi, do you have any promotions or discounts av...</td>\n",
       "    </tr>\n",
       "    <tr>\n",
       "      <th>5</th>\n",
       "      <td>-1</td>\n",
       "      <td>Hi, do you have Winter jackets ?Hello! Yes, we...</td>\n",
       "    </tr>\n",
       "    <tr>\n",
       "      <th>6</th>\n",
       "      <td>-1</td>\n",
       "      <td>Do you have some red jackets for winter Hello!...</td>\n",
       "    </tr>\n",
       "    <tr>\n",
       "      <th>7</th>\n",
       "      <td>-1</td>\n",
       "      <td>Hi, do you have stylish blue jacketsHello! Yes...</td>\n",
       "    </tr>\n",
       "  </tbody>\n",
       "</table>\n",
       "</div>"
      ],
      "text/plain": [
       "   topic                                               docs\n",
       "0     -1  Hi, I'm looking for a summer dress.Do you have...\n",
       "1     -1  Hello, do you have size 8 in black jeans?Hi! L...\n",
       "2     -1  Hi, can you recommend a jacket for cold weathe...\n",
       "3     -1  Hello, I'm looking for a gift for my wife. Any...\n",
       "4     -1  Hi, do you have any promotions or discounts av...\n",
       "5     -1  Hi, do you have Winter jackets ?Hello! Yes, we...\n",
       "6     -1  Do you have some red jackets for winter Hello!...\n",
       "7     -1  Hi, do you have stylish blue jacketsHello! Yes..."
      ]
     },
     "execution_count": 86,
     "metadata": {},
     "output_type": "execute_result"
    }
   ],
   "source": [
    "df"
   ]
  },
  {
   "cell_type": "code",
   "execution_count": null,
   "metadata": {},
   "outputs": [],
   "source": [
    "topic_model.visualize_barchart()"
   ]
  },
  {
   "cell_type": "code",
   "execution_count": null,
   "metadata": {},
   "outputs": [],
   "source": []
  }
 ],
 "metadata": {
  "kernelspec": {
   "display_name": "Python 3",
   "language": "python",
   "name": "python3"
  },
  "language_info": {
   "codemirror_mode": {
    "name": "ipython",
    "version": 3
   },
   "file_extension": ".py",
   "mimetype": "text/x-python",
   "name": "python",
   "nbconvert_exporter": "python",
   "pygments_lexer": "ipython3",
   "version": "3.11.4"
  }
 },
 "nbformat": 4,
 "nbformat_minor": 2
}
